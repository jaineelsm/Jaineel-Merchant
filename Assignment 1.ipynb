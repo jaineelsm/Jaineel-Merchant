{
 "cells": [
  {
   "cell_type": "markdown",
   "metadata": {},
   "source": [
    "# PROBLEM 1"
   ]
  },
  {
   "cell_type": "raw",
   "metadata": {},
   "source": [
    "You are required to find the 10001 th and 1000001 th prime number. You can use any of the basic python libraries mentioned in this link: https://docs.python.org/3/library/, and numpy, for complemting this assignment. Use of any other libraries is strictly prohibited. Additionally you are required to report the implementation time for you code."
   ]
  },
  {
   "cell_type": "code",
   "execution_count": 1,
   "metadata": {},
   "outputs": [],
   "source": [
    "import time\n",
    "import math \n",
    "import numpy\n",
    "\n",
    "# import all other necessary libraries that you require"
   ]
  },
  {
   "cell_type": "code",
   "execution_count": 2,
   "metadata": {},
   "outputs": [],
   "source": [
    "#define a function to get the nth position prime number\n",
    "\n",
    "#Optimised Sieve of Eratosthenes algorithm for speed and memory.\n",
    "#Logic of Sieve of Eratosthenes is to alloting all numbers as prime then removing their multiples \n",
    "#Time complexity : O(n*log(log(n))) \n",
    "def Sieve_Eratosthenes(n):\n",
    "     #Input n>=6, Returns a array of primes, 2 <= p < n\n",
    "    sieve = numpy.ones(n//3 + (n%6==2), dtype=numpy.bool)\n",
    "    for i in range(1,int(n**0.5)//3+1):\n",
    "        if sieve[i]:\n",
    "            k=3*i+1|1\n",
    "            sieve[k*k//3 :: 2*k] = False\n",
    "            sieve[k*(k-2*(i&1)+4)//3::2*k] = False\n",
    "    return numpy.r_[2,3,((3*numpy.nonzero(sieve)[0][1:]+1)|1)]\n",
    "\n",
    "\n",
    "def nth_prime(n):\n",
    "    #upto gets the limit where our prime numbers till n is covered\n",
    "    upto = max(100, n * math.log(n))\n",
    "    primes = []\n",
    "    while len(primes) < n:\n",
    "        primes = Sieve_Eratosthenes(int(upto))\n",
    "        #Sieve_Eratosthenes is the fastest algorithm to get number of prime till n\n",
    "        upto *= 1.5\n",
    "        #if upto doesn't have the count till n then while loop runs again\n",
    "        #and add length to upto according to the memory\n",
    "    return primes[n-1]"
   ]
  },
  {
   "cell_type": "code",
   "execution_count": 3,
   "metadata": {},
   "outputs": [],
   "source": [
    "\n",
    "start1 = time.time()\n",
    "\n",
    "# your code goes here\n",
    "a=nth_prime(10001)\n",
    "\n",
    "\n",
    "end1 = time.time()\n",
    "start2 = time.time()\n",
    "\n",
    "# your code goes here\n",
    "\n",
    "b=nth_prime(1000001)\n",
    "\n",
    "end2 = time.time()"
   ]
  },
  {
   "cell_type": "code",
   "execution_count": 4,
   "metadata": {},
   "outputs": [
    {
     "name": "stdout",
     "output_type": "stream",
     "text": [
      "The 10001th prime number is 104743\n",
      "Time taken for implentation = 0.0022301673889160156\n",
      "The 1000001th prime number is 15485867\n",
      "Time taken for implentation = 0.10389304161071777\n"
     ]
    }
   ],
   "source": [
    "time1 = end1 - start1\n",
    "time2 = end2 - start2\n",
    "\n",
    "print('The 10001th prime number is {}'.format(a))\n",
    "print(f'Time taken for implentation = {time1}')\n",
    "print('The 1000001th prime number is {}'.format(b))\n",
    "print(f'Time taken for implentation = {time2}')\n"
   ]
  },
  {
   "cell_type": "markdown",
   "metadata": {},
   "source": [
    "# PROBLEM 2"
   ]
  },
  {
   "cell_type": "raw",
   "metadata": {},
   "source": [
    "For this problem you are required to find the center of the bounding box enclosing the circle in the image \"TEST_im.jpg\".\n",
    "**You are only allowed to use OpenCV, numpy for this problem**"
   ]
  },
  {
   "cell_type": "code",
   "execution_count": 5,
   "metadata": {},
   "outputs": [],
   "source": [
    "##import all the necesary library\n",
    "import numpy as np\n",
    "import cv2 \n",
    "#using matplotlib as mention in queries doc\n",
    "import matplotlib.pyplot as plt\n",
    "\n"
   ]
  },
  {
   "cell_type": "code",
   "execution_count": 6,
   "metadata": {},
   "outputs": [],
   "source": [
    "## Read the image\n",
    "\n",
    "\n",
    "img = cv2.imread('/Users/jaineel/Downloads/WhatsApp Image 2020-06-20 at 7.01.20 PM.jpeg', cv2.IMREAD_COLOR) \n",
    "\n",
    "# Convert to grayscale. \n",
    "gray = cv2.cvtColor(img, cv2.COLOR_BGR2GRAY) \n",
    "  \n",
    "# Blur using 3 * 3 kernel. \n",
    "gray_blurred = cv2.blur(gray, (3, 3)) \n",
    "  \n",
    "# Apply Hough transform on the blurred image. \n",
    "detected_circles = cv2.HoughCircles(gray_blurred,  \n",
    "                   cv2.HOUGH_GRADIENT, 1, 20, param1 = 50, \n",
    "               param2 = 30, minRadius = 1, maxRadius = 40) \n",
    "\n"
   ]
  },
  {
   "cell_type": "code",
   "execution_count": 7,
   "metadata": {},
   "outputs": [
    {
     "name": "stdout",
     "output_type": "stream",
     "text": [
      "The center coordinate is (50, 26)\n"
     ]
    },
    {
     "data": {
      "image/png": "[encoded data removed]",
      "text/plain": [
       "<Figure size 432x288 with 1 Axes>"
      ]
     },
     "metadata": {
      "needs_background": "light"
     },
     "output_type": "display_data"
    }
   ],
   "source": [
    "##Find the Bounding box \n",
    "start_point = (2, 2) \n",
    "  \n",
    "# Ending coordinate, here (220, 220) \n",
    "# represents the bottom right corner of rectangle \n",
    "end_point = (98, 50) \n",
    "  \n",
    "# Blue color in BGR \n",
    "color = (255, 0, 0) \n",
    "  \n",
    "# Line thickness of 2 px \n",
    "thickness = 2\n",
    "\n",
    "  \n",
    "# Draw circles that are detected. \n",
    "if detected_circles is not None: \n",
    "  \n",
    "    # Convert the circle parameters a, b and r to integers. \n",
    "    detected_circles = np.uint16(np.around(detected_circles)) \n",
    "  \n",
    "    for pt in detected_circles[0, :]: \n",
    "        a, b, r = pt[0], pt[1], pt[2] \n",
    "  \n",
    "        # Draw the circumference of the circle. \n",
    "        cv2.circle(img, (a, b), r, (0, 255, 0), 2) \n",
    "      \n",
    "        # Draw a small circle (of radius 1) to show the center. \n",
    "        cv2.circle(img, (a, b), 1, (0, 0, 255), 3)\n",
    "        # Using cv2.rectangle() method \n",
    "        # Draw a rectangle with blue line borders of thickness of 2 px \n",
    "        cv2.rectangle(img, start_point, end_point, color, thickness)\n",
    "        \n",
    "        #print (gray.shape)\n",
    "        plt.imshow(img)\n",
    "        plt.imshow(img, cmap='gray')\n",
    "        print('The center coordinate is',(a,b))\n",
    "\n",
    "        #cv2.imshow(\"Detected Circle\", img) \n",
    "        #cv2.waitKey(0) \n",
    "\n",
    "\n",
    "\n"
   ]
  },
  {
   "cell_type": "code",
   "execution_count": 8,
   "metadata": {},
   "outputs": [],
   "source": [
    "##Find the center of the bounding box\n"
   ]
  },
  {
   "cell_type": "code",
   "execution_count": null,
   "metadata": {},
   "outputs": [],
   "source": []
  }
 ],
 "metadata": {
  "kernelspec": {
   "display_name": "Python 3",
   "language": "python",
   "name": "python3"
  },
  "language_info": {
   "codemirror_mode": {
    "name": "ipython",
    "version": 3
   },
   "file_extension": ".py",
   "mimetype": "text/x-python",
   "name": "python",
   "nbconvert_exporter": "python",
   "pygments_lexer": "ipython3",
   "version": "3.7.6"
  }
 },
 "nbformat": 4,
 "nbformat_minor": 2
}
